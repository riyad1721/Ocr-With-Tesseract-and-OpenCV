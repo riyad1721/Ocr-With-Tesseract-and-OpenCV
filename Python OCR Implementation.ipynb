{
 "cells": [
  {
   "cell_type": "code",
   "execution_count": 1,
   "id": "41131abc",
   "metadata": {},
   "outputs": [],
   "source": [
    "from PIL import Image\n",
    "import pytesseract\n",
    "import numpy as np"
   ]
  },
  {
   "cell_type": "code",
   "execution_count": 2,
   "id": "90d08640",
   "metadata": {},
   "outputs": [],
   "source": [
    "filename = 'C:/Users/admin/Desktop/OCR-work-place/research/data/image-3.jpeg'\n",
    "img1 = np.array(Image.open(filename))\n",
    "text = pytesseract.image_to_string(img1,lang='ben', config='--psm 6')"
   ]
  },
  {
   "cell_type": "code",
   "execution_count": 3,
   "id": "1b2cde4c",
   "metadata": {},
   "outputs": [
    {
     "data": {
      "text/plain": [
       "'লী ম্যা এল্টারষ্ছাহুজ্\\n467 940৫ ৫3778270275\\nএখানে দেশী-বিদেশী হার্ড ওয়ার প্রব্যাণি, আকর্ষণীয় ডিজাইনের ডোর লক, হ্যান্ডেল,\\nডোর ক্রোজার, গ্রাস পেপার, ওয়াল পেপার, জিপসাম বোর্ড ও থাই ্যাগুমিনিয়ামের যাবতীয়\\nফিটিংস উডেন ফ্রোর এবং ডিজাইন গ্রাস ইত্যাদি বিডি ও সুদক্ষ বিগ দারা কাজ করা হয়।\\nস্ত্রঃ তারিখ ঃ.../$, 11:4৭.\\n্ চ্টমা টাল 16) 2\\n2৫\\n৫ 7 324১৮-০1%৭4০ -1\\nজলসা\\n_1%\\nচ-১০৪, উত্তর বাড্ডা, ঢাকা-১২১২\\nপ্রোপ্রাইরঃ ০১৯৪৯-৭৫২৯০৫ ম্যানেজার : ০১৭৬৮-০৯৩৪১৫\\n\\x0c'"
      ]
     },
     "execution_count": 3,
     "metadata": {},
     "output_type": "execute_result"
    }
   ],
   "source": [
    "text"
   ]
  },
  {
   "cell_type": "code",
   "execution_count": null,
   "id": "95c276a7",
   "metadata": {},
   "outputs": [],
   "source": [
    "filename = 'C:/Users/admin/Desktop/OCR-work-place/research/data/image-2.jpeg'\n",
    "img2 = np.array(Image.open(filename))\n",
    "text = pytesseract.image_to_string(img2)\n",
    "print(text)"
   ]
  },
  {
   "cell_type": "code",
   "execution_count": null,
   "id": "f8756b78",
   "metadata": {},
   "outputs": [],
   "source": [
    "import numpy as np\n",
    "import cv2\n",
    "norm_img = np.zeros((img1.shape[0], img1.shape[1]))\n",
    "img = cv2.normalize(img1, norm_img, 0, 255, cv2.NORM_MINMAX)\n",
    "img = cv2.threshold(img1, 100, 255, cv2.THRESH_BINARY)[1]\n",
    "img = cv2.GaussianBlur(img1, (1, 1), 0)"
   ]
  },
  {
   "cell_type": "code",
   "execution_count": null,
   "id": "52fa0c4e",
   "metadata": {},
   "outputs": [],
   "source": [
    "from pytesseract import Output\n",
    "import cv2"
   ]
  },
  {
   "cell_type": "code",
   "execution_count": null,
   "id": "644a15a4",
   "metadata": {},
   "outputs": [],
   "source": [
    "filename = 'C:/Users/admin/Desktop/OCR-work-place/research/data/image-3.jpeg'\n",
    "image = cv2.imread(filename)"
   ]
  },
  {
   "cell_type": "code",
   "execution_count": null,
   "id": "1952216d",
   "metadata": {},
   "outputs": [],
   "source": [
    "results = pytesseract.image_to_data(image, output_type=Output.DICT)"
   ]
  },
  {
   "cell_type": "code",
   "execution_count": null,
   "id": "1ab23742",
   "metadata": {},
   "outputs": [],
   "source": [
    "results"
   ]
  },
  {
   "cell_type": "code",
   "execution_count": null,
   "id": "07502757",
   "metadata": {},
   "outputs": [],
   "source": [
    "for i in range(0, len(results['text'])):\n",
    "   x = results['left'][i]\n",
    "   y = results['top'][i]\n",
    "\n",
    "   w = results['width'][i]\n",
    "   h = results['height'][i]\n",
    "\n",
    "   text = results['text'][i]\n",
    "   conf = int(results['conf'][i])\n",
    "\n",
    "   if conf > 70:\n",
    "       text = \"\".join([c if ord(c) < 128 else \"\" for c in text]).strip()\n",
    "       cv2.rectangle(image, (x, y), (x + w, y + h), (0, 255, 0), 2)\n",
    "       cv2.putText(image, text, (x, y - 10), \n",
    "cv2.FONT_HERSHEY_SIMPLEX, 0.5, (0, 0, 200), 2)"
   ]
  },
  {
   "cell_type": "code",
   "execution_count": null,
   "id": "883ffeff",
   "metadata": {},
   "outputs": [],
   "source": [
    "text"
   ]
  },
  {
   "cell_type": "code",
   "execution_count": null,
   "id": "1b8a3a1b",
   "metadata": {},
   "outputs": [],
   "source": [
    "cv2.imshow(image)\n",
    "cv2.waitKey(0)"
   ]
  },
  {
   "cell_type": "code",
   "execution_count": null,
   "id": "70546c22",
   "metadata": {},
   "outputs": [],
   "source": []
  }
 ],
 "metadata": {
  "kernelspec": {
   "display_name": "Python 3 (ipykernel)",
   "language": "python",
   "name": "python3"
  },
  "language_info": {
   "codemirror_mode": {
    "name": "ipython",
    "version": 3
   },
   "file_extension": ".py",
   "mimetype": "text/x-python",
   "name": "python",
   "nbconvert_exporter": "python",
   "pygments_lexer": "ipython3",
   "version": "3.9.12"
  }
 },
 "nbformat": 4,
 "nbformat_minor": 5
}
